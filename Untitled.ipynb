{
 "cells": [
  {
   "cell_type": "markdown",
   "id": "sharp-wallet",
   "metadata": {},
   "source": [
    "d"
   ]
  },
  {
   "cell_type": "code",
   "execution_count": 1,
   "id": "usual-infrastructure",
   "metadata": {},
   "outputs": [],
   "source": [
    "from bs4 import BeautifulSoup\n",
    "import requests"
   ]
  },
  {
   "cell_type": "code",
   "execution_count": 2,
   "id": "incident-chance",
   "metadata": {},
   "outputs": [
    {
     "data": {
      "text/plain": [
       "61"
      ]
     },
     "execution_count": 2,
     "metadata": {},
     "output_type": "execute_result"
    }
   ],
   "source": [
    "url = 'https://www.medrxiv.org/content/10.1101/2021.01.02.20248998v1.full'\n",
    "\n",
    "req = requests.get(url)\n",
    "\n",
    "soup = BeautifulSoup(req.content, 'html.parser')\n",
    "\n",
    "meta = soup.find_all(\"meta\", attrs = {\"name\" : \"citation_reference\"})\n",
    "\n",
    "len(meta)"
   ]
  },
  {
   "cell_type": "code",
   "execution_count": 3,
   "id": "photographic-figure",
   "metadata": {},
   "outputs": [
    {
     "data": {
      "text/plain": [
       "True"
      ]
     },
     "execution_count": 3,
     "metadata": {},
     "output_type": "execute_result"
    }
   ],
   "source": [
    " def parseAmpersandCitation(c):\n",
    "    tokens = c.split(\"&\")\n",
    "    tokens = tokens[1].split(\".\")\n",
    "    # author middle initial messes up split on ., sometimes need to go one over\n",
    "    if(len(tokens[1]) < 5):\n",
    "        return tokens[2]\n",
    "    else:\n",
    "        return tokens[1]\n",
    "\n",
    "def parseEtAlCitation(c):\n",
    "    tokens = c.split(\"et al.\")\n",
    "    return tokens[1].split(\".\")[0]\n",
    "\n",
    "def parseSingleAuthorCitation(c):\n",
    "    c = c.replace(\"?\", \".\")\n",
    "    tokens = c.split(\".\")\n",
    "    # author middle initial messes up split on ., sometimes need to go one over\n",
    "    if(len(tokens[1]) < 5):\n",
    "        return tokens[2]\n",
    "    else:\n",
    "        return tokens[1]\n",
    "\n",
    "citations = []\n",
    "for c in meta:\n",
    "    s = c['content']\n",
    "    if '&' in s:\n",
    "        citations.append(parseAmpersandCitation(c['content']).strip())\n",
    "    elif 'et al.' in s:\n",
    "        citations.append(parseEtAlCitation(s).strip())\n",
    "    else:\n",
    "        citations.append(parseSingleAuthorCitation(s).strip())\n",
    "len(citations) == len(meta)"
   ]
  },
  {
   "cell_type": "code",
   "execution_count": 4,
   "id": "eligible-facing",
   "metadata": {},
   "outputs": [
    {
     "data": {
      "text/plain": [
       "['An interactive web-based dashboard to track COVID-19 in real time',\n",
       " 'Dying in a Leadership Vacuum',\n",
       " 'Covid-19: Is a second wave hitting Europe',\n",
       " 'Pathophysiology, Transmission, Diagnosis, and Treatment of Coronavirus Disease 2019 (COVID-19): A Review',\n",
       " 'Prevalence of Asymptomatic SARS-CoV-2 Infection : A Narrative Review',\n",
       " 'Seroprevalence of Antibodies to SARS-CoV-2 in 10 Sites in the United States, March 23-May 12, 2020',\n",
       " 'The intersection of viral illnesses: A seasonal influenza epidemic amidst the COVID-19 pandemic',\n",
       " 'The outlook for diagnostic purposes of the 2019-novel coronavirus disease',\n",
       " 'COVID-19 diagnostic approaches: different roads to the same destination',\n",
       " 'Nucleic-acid-amplification tests from respiratory samples for the diagnosis of coronavirus infections: systematic review and meta-analysis',\n",
       " 'Laboratory Testing Methods for Novel Severe Acute Respiratory Syndrome-Coronavirus-2 (SARS-CoV-2)',\n",
       " 'Measuring the Serologic Response to Severe Acute Respiratory Syndrome Coronavirus 2: Methods and Meaning',\n",
       " 'Serology testing in the COVID-19 pandemic response',\n",
       " 'Testing for SARS-CoV-2 (COVID-19): a systematic review and clinical guide to molecular and serological in-vitro diagnostic assays',\n",
       " 'Comparative assessment of multiple COVID-19 serological technologies supports continued evaluation of point-of-care lateral flow assays in hospital and community healthcare settings',\n",
       " 'Evaluation of SARS-CoV-2 serology assays reveals a range of test performance',\n",
       " 'The Advisory Committee on Immunization Practices’ Interim Recommendation for Use of Pfizer-BioNTech COVID-19 Vaccine - United States, December 2020',\n",
       " 'An mRNA Vaccine against SARS-CoV-2 - Preliminary Report',\n",
       " 'Safety and Immunogenicity of SARS-CoV-2 mRNA-1273 Vaccine in Older Adults',\n",
       " 'Safety and Immunogenicity of Two RNA-Based Covid-19 Vaccine Candidates',\n",
       " 'Approaches and Challenges in SARS-CoV-2 Vaccine Development',\n",
       " 'SARS-CoV-2 immunity: review and applications to phase 3 vaccine candidates',\n",
       " 'Compromised Humoral Functional Evolution Tracks with SARS-CoV-2 Mortality',\n",
       " 'Kinetics of antibody responses dictate COVID-19 outcome',\n",
       " 'Meta-analysis of diagnostic performance of serology tests for COVID-19: impact of assay design and post-symptom-onset intervals',\n",
       " 'Meta-analysis of diagnostic performance of serological tests for SARS-CoV-2 antibodies up to 25 April 2020 and public health implications',\n",
       " 'Diagnostic accuracy of serological tests for covid-19: systematic review and meta-analysis',\n",
       " 'Diagnostic Characteristics of Serological-Based COVID-19 Testing: A Systematic Review and Meta-Analysis',\n",
       " 'Evaluation of diagnostic accuracy of 10 serological assays for detection of SARS-CoV-2 antibodies',\n",
       " 'EUA Authorized Serology Test Performance',\n",
       " 'SARS-CoV-2 serology: Test, test, test, but interpret with caution! Clin Med (Lond) 20, 365–368 (2020)',\n",
       " 'Antibody responses to SARS-CoV-2 in patients with COVID-19',\n",
       " 'Serology characteristics of SARS-CoV-2 infection after exposure and postsymptom onset',\n",
       " 'Antibody Responses to SARS-CoV-2 in Patients With Novel Coronavirus Disease 2019',\n",
       " 'Prevalence',\n",
       " 'The Role of Antibody Testing for SARS-CoV-2: Is There One? J Clin Microbiol 58 (2020)',\n",
       " 'Diagnostic technology for COVID-19: comparative evaluation of antigen and serology-based SARS-CoV-2 immunoassays, and contact tracing solutions for potential use as at-home products',\n",
       " 'A new method of classifying prognostic comorbidity in longitudinal studies: development and validation',\n",
       " 'Ultrasensitive high-resolution profiling of early seroconversion in patients with COVID-19',\n",
       " 'Potent binding of 2019 novel coronavirus spike protein by a SARS coronavirus-specific human monoclonal antibody',\n",
       " 'High Negative Predictive Value, Low Prevalence, and Spectrum Effect: Caution in the Interpretation',\n",
       " 'Projecting the transmission dynamics of SARS-CoV-2 through the postpandemic period',\n",
       " 'The Power of Antibody-Based Surveillance',\n",
       " 'The bumpy road to achieve herd immunity in COVID-19',\n",
       " 'Evaluation of two commercial and two non-commercial immunoassays for the detection of prior infection to SARS-CoV-2',\n",
       " 'SARS-CoV-2 mRNA vaccine design enabled by prototype pathogen preparedness',\n",
       " 'Risks of emergency use authorizations for medical products during outbreak situations: a COVID-19 case study',\n",
       " 'Cross-reactivity of SARS-CoV-2 with HIV chemiluminescent assay leading to false-positive results',\n",
       " 'Testing for antibodies to SARS-CoV-2',\n",
       " 'Racial Disparity of Coronavirus Disease 2019 in African American Communities',\n",
       " 'Clinical and immunological assessment of asymptomatic SARS-CoV-2 infections',\n",
       " 'Rapid Decay of Anti-SARS-CoV-2 Antibodies in Persons with Mild Covid-19',\n",
       " 'Loss of Anti-SARS-CoV-2 Antibodies in Mild Covid-19',\n",
       " 'Serological follow-up of SARS-CoV-2 asymptomatic subjects',\n",
       " 'COVID-19 re-infection by a phylogenetically distinct SARS-coronavirus-2 strain confirmed by whole genome sequencing',\n",
       " 'Reinfection with SARS-CoV-2: Implications for Vaccines',\n",
       " 'Reinfection of SARS-CoV-2 in an immunocompromised patient: a case report',\n",
       " 'Targeting SARS-CoV2 Spike Protein Receptor Binding Domain by Therapeutic Antibodies',\n",
       " '“Immunity passports” in the context of COVID-19',\n",
       " '‘Immunity Passports’ for SARS-CoV-2: an online experimental study of the impact of antibody test terminology on perceived risk and behaviour',\n",
       " 'The scientific and ethical feasibility of immunity passports']"
      ]
     },
     "execution_count": 4,
     "metadata": {},
     "output_type": "execute_result"
    }
   ],
   "source": [
    "citations"
   ]
  },
  {
   "cell_type": "code",
   "execution_count": 5,
   "id": "undefined-bankruptcy",
   "metadata": {},
   "outputs": [
    {
     "data": {
      "text/plain": [
       "True"
      ]
     },
     "execution_count": 5,
     "metadata": {},
     "output_type": "execute_result"
    }
   ],
   "source": [
    "# http://retractiondatabase.org/RetractionSearch.aspx#?ttl%3dA%2breview%2bof%2bconvalescent%2bplasma%2btransfusion%2bin%2bCOVID-19%253a%2bOld%2bwine%2breserved%2bfor%2bspecial%2boccasions\n",
    "\n",
    "\n",
    "def formatForRWDB(s):\n",
    "    rwBaseURL = 'http://retractiondatabase.org/RetractionSearch.aspx#?ttl%3d'\n",
    "    # will need to research and expand on this\n",
    "    s = s.replace(' ', '%2b')\n",
    "    s = s.replace(':', '%253a')\n",
    "    return rwBaseURL + s\n",
    "\n",
    "# a url I got from manually submitting a query\n",
    "controlURL = 'http://retractiondatabase.org/RetractionSearch.aspx#?ttl%3dA%2breview%2bof%2bconvalescent%2bplasma%2btransfusion%2bin%2bCOVID-19%253a%2bOld%2bwine%2breserved%2bfor%2bspecial%2boccasions'\n",
    "\n",
    "# a known retraction for testing\n",
    "controlPaper = 'A review of convalescent plasma transfusion in COVID-19: Old wine reserved for special occasions'\n",
    "\n",
    "# test \n",
    "testURL = formatForRWDB(controlPaper)\n",
    "testURL == controlURL"
   ]
  },
  {
   "cell_type": "code",
   "execution_count": 6,
   "id": "confidential-spotlight",
   "metadata": {},
   "outputs": [],
   "source": [
    "req = requests.get(testURL)\n",
    "\n",
    "soup = BeautifulSoup(req.content, 'html.parser')"
   ]
  },
  {
   "cell_type": "code",
   "execution_count": 7,
   "id": "intermediate-gazette",
   "metadata": {},
   "outputs": [],
   "source": [
    "# print(BeautifulSoup(req.content, 'html.parser').prettify())\n",
    "# with open(\"test.html\", \"w\") as out:\n",
    "#     out.write(BeautifulSoup(req.content, 'html.parser').prettify())"
   ]
  },
  {
   "cell_type": "code",
   "execution_count": 8,
   "id": "finite-danger",
   "metadata": {},
   "outputs": [],
   "source": [
    "from selenium import webdriver\n",
    "from selenium.webdriver.firefox.options import Options\n",
    "opts = Options()\n",
    "opts.headless = True\n",
    "driver = webdriver.Firefox(options=opts)\n",
    "driver.get(testURL)\n",
    "html_src = driver.page_source\n",
    "driver.quit()"
   ]
  },
  {
   "cell_type": "code",
   "execution_count": 9,
   "id": "suspected-ethernet",
   "metadata": {},
   "outputs": [],
   "source": [
    "soup = BeautifulSoup(html_src)\n",
    "\n",
    "# get all the tables from th page\n",
    "tables = soup.find_all(\"tbody\")\n",
    "\n",
    "# get the table with the results\n",
    "resultsTable = [t for t in tables if len(t.find_all(\"span\", attrs = {\"class\" : \"totalItems\"})) > 0][0]\n",
    "\n",
    "with open('resTable.html', 'w') as out:\n",
    "    out.write(str(resultsTable))"
   ]
  },
  {
   "cell_type": "code",
   "execution_count": 10,
   "id": "advance-posting",
   "metadata": {},
   "outputs": [
    {
     "data": {
      "text/plain": [
       "[<span class=\"totalItems\">1 Item(s) Found</span>]"
      ]
     },
     "execution_count": 10,
     "metadata": {},
     "output_type": "execute_result"
    }
   ],
   "source": [
    "\n",
    "resultsTable.find_all(\"span\", attrs = {\"class\" : \"totalItems\"})\n",
    "# tables[0].find_all(\"span\", attrs = {\"class\" : \"totalItems\"})\n",
    "# tables[1].find_all(\"span\", attrs = {\"class\" : \"totalItems\"})\n",
    "# tables[2].find_all(\"span\", attrs = {\"class\" : \"totalItems\"})\n",
    "# tables[3].find_all(\"span\", attrs = {\"class\" : \"totalItems\"})\n",
    "# len(tables[4].find_all(\"span\", attrs = {\"class\" : \"totalItems\"}))"
   ]
  },
  {
   "cell_type": "code",
   "execution_count": 11,
   "id": "outstanding-auction",
   "metadata": {},
   "outputs": [
    {
     "data": {
      "text/plain": [
       "[<span class=\"totalItems\">1 Item(s) Found</span>,\n",
       " <span class=\"rTitleNotIE\">A review of convalescent plasma transfusion in COVID-19: Old wine reserved for special occasions</span>,\n",
       " <span class=\"rSubject\">(HSC) Medicine - Immunology; (HSC) Medicine - Infectious Disease; (HSC) Medicine - Rehabilitation/Therapy; </span>,\n",
       " <span class=\"rJournal\" style=\"white-space:normal\"><span class=\"rJournal\">Lung India ---</span><span class=\"rPublisher\">Wolters Kluwer - Medknow</span></span>,\n",
       " <span class=\"rJournal\">Lung India ---</span>,\n",
       " <span class=\"rPublisher\">Wolters Kluwer - Medknow</span>,\n",
       " <span class=\"rInstitution\" style=\"border-top-style: solid; border-top-width: 2px;\">Department of Pulmonary Medicine, All India Institute of Medical Sciences, Jodhpur, Rajasthan, India</span>,\n",
       " <span class=\"rNature\">10.4103/lungindia.lungindia_350_20</span>,\n",
       " <span class=\"rNature\">10.4103/0970-2113.306029</span>,\n",
       " <span class=\"rNature\">Retraction</span>,\n",
       " <span>India<br/><span class=\"rPaywalled\">No</span></span>,\n",
       " <span class=\"rPaywalled\">No</span>,\n",
       " <div class=\"rReason\" style=\"border-bottom-style: none;\">+Duplication of Article</div>]"
      ]
     },
     "execution_count": 11,
     "metadata": {},
     "output_type": "execute_result"
    }
   ],
   "source": [
    "spans = resultsTable.find_all(\"span\")\n",
    "divs = resultsTable.find_all(\"div\")\n",
    "\n",
    "data = spans + divs\n",
    "\n",
    "data"
   ]
  },
  {
   "cell_type": "code",
   "execution_count": null,
   "id": "roman-optics",
   "metadata": {},
   "outputs": [],
   "source": []
  },
  {
   "cell_type": "code",
   "execution_count": 12,
   "id": "victorian-bundle",
   "metadata": {},
   "outputs": [
    {
     "name": "stdout",
     "output_type": "stream",
     "text": [
      "<span class=\"totalItems\">1 Item(s) Found</span>\n",
      "<span class=\"rTitleNotIE\">A review of convalescent plasma transfusion in COVID-19: Old wine reserved for special occasions</span>\n",
      "<span class=\"rSubject\">(HSC) Medicine - Immunology; (HSC) Medicine - Infectious Disease; (HSC) Medicine - Rehabilitation/Therapy; </span>\n",
      "<span class=\"rJournal\" style=\"white-space:normal\"><span class=\"rJournal\">Lung India ---</span><span class=\"rPublisher\">Wolters Kluwer - Medknow</span></span>\n",
      "<span class=\"rJournal\">Lung India ---</span>\n",
      "<span class=\"rPublisher\">Wolters Kluwer - Medknow</span>\n",
      "<span class=\"rInstitution\" style=\"border-top-style: solid; border-top-width: 2px;\">Department of Pulmonary Medicine, All India Institute of Medical Sciences, Jodhpur, Rajasthan, India</span>\n",
      "<span class=\"rNature\">10.4103/lungindia.lungindia_350_20</span>\n",
      "<span class=\"rNature\">10.4103/0970-2113.306029</span>\n",
      "<span class=\"rNature\">Retraction</span>\n",
      "<span>India<br/><span class=\"rPaywalled\">No</span></span>\n",
      "<span class=\"rPaywalled\">No</span>\n",
      "<div class=\"rReason\" style=\"border-bottom-style: none;\">+Duplication of Article</div>\n"
     ]
    }
   ],
   "source": [
    "for el in data:\n",
    "    print(el)\n",
    "#     if el['class']:\n",
    "#         print(el['class'][0], \":\", el.contents[0])\n",
    "#     else:\n",
    "#         print(el)"
   ]
  },
  {
   "cell_type": "code",
   "execution_count": 33,
   "id": "clear-corps",
   "metadata": {},
   "outputs": [],
   "source": [
    "from selenium import webdriver\n",
    "from selenium.webdriver.firefox.options import Options\n",
    "\n",
    "def formatForRWDB(s):\n",
    "    rwBaseURL = 'http://retractiondatabase.org/RetractionSearch.aspx#?ttl%3d'\n",
    "    # will need to research and expand on this\n",
    "    s = s.replace(' ', '%2b')\n",
    "    s = s.replace(':', '%253a')\n",
    "    return rwBaseURL + s\n",
    "\n",
    "def getResultsTable(soup):\n",
    "    # get all the tables from th page\n",
    "    tables = soup.find_all(\"tbody\")\n",
    "    # get the table with the results\n",
    "    resultsTable = [t for t in tables if len(t.find_all(\"span\", attrs = {\"class\" : \"totalItems\"})) > 0]\n",
    "    if len(resultsTable) == 0:\n",
    "        return None\n",
    "    else:\n",
    "        return resultsTable[0]\n",
    "\n",
    "def getResultsTableData(resultsTable):\n",
    "    spans = resultsTable.find_all(\"span\")\n",
    "    divs = resultsTable.find_all(\"div\")\n",
    "    return spans + divs\n",
    "    \n",
    "def queryRWDB(targets):\n",
    "    resList = []\n",
    "    for t in targets:\n",
    "        opts = Options()\n",
    "        opts.headless = True\n",
    "        driver = webdriver.Firefox(options = opts)\n",
    "        driver.get(formatForRWDB(t))\n",
    "        htmlSrc = driver.page_source\n",
    "        soup = BeautifulSoup(htmlSrc)\n",
    "        resTable = getResultsTable(soup)\n",
    "        resList.append(resTable)\n",
    "        driver.quit()\n",
    "    return resList\n",
    "\n",
    "# a known retraction for testing\n",
    "testTargets = [\n",
    "    'A review of convalescent plasma transfusion in COVID-19: Old wine reserved for special occasions',\n",
    "    '5G Technology and induction of coronavirus in skin cells',\n",
    "    'An interactive web-based dashboard to track COVID-19 in real time'\n",
    "]\n",
    "# testTargets = [\n",
    "#     'An interactive web-based dashboard to track COVID-19 in real time'\n",
    "# ]\n",
    "\n",
    "# code goes here\n",
    "resList = queryRWDB(testTargets)"
   ]
  },
  {
   "cell_type": "code",
   "execution_count": 34,
   "id": "lined-peoples",
   "metadata": {},
   "outputs": [
    {
     "data": {
      "text/plain": [
       "[<tbody><tr>\n",
       " <th class=\"hidden smallFont\" scope=\"col\">RID</th><th class=\"header headerSortUp smallFont\" scope=\"col\" style=\"border-color:White;border-width:1px;border-style:solid;white-space:nowrap;\">Retraction or Other Notices<br/>Title/Subject(s)/Journal --- Publisher/Affiliation(s)/Retraction Watch Post URL(s)<br/><span class=\"totalItems\">1 Item(s) Found</span></th><th class=\"smallFont\" scope=\"col\" style=\"border-color:White;border-width:1px;border-style:solid;font-weight:bold;\">Reason(s)</th><th class=\"smallFont\" scope=\"col\" style=\"border-color:White;border-width:1px;border-style:solid;font-weight:bold;\">Author(s)</th><th class=\"smallFont\" scope=\"col\" style=\"border-color:White;border-width:1px;border-style:solid;font-weight:bold;\">Original Paper<br/>Date/PubMedID/DOI</th><th class=\"smallFont\" scope=\"col\" style=\"border-color:White;border-width:1px;border-style:solid;font-weight:bold;\">Retraction or Other Notices<br/>Date/PubMedID/DOI</th><th class=\"smallFont\" scope=\"col\" style=\"border-color:White;border-width:1px;border-style:solid;font-weight:bold;\">Article Type(s)<br/>Nature of Notice</th><th class=\"smallFont\" scope=\"col\" style=\"border-color:White;border-width:1px;border-style:solid;\">Countries<br/>Paywalled?<br/>Notes</th>\n",
       " </tr><tr class=\"mainrow\" style=\"background-color:LightYellow;border-color:Black;border-width:1px;border-style:Solid;\">\n",
       " <td class=\"hidden smallFont\" style=\"color:Black;\">24932</td><td class=\"smallFont\" id=\"grdRetraction_Title_0\" style=\"border-color:Silver;\" title=\"24932\"><a href=\"javascript:__doPostBack('grdRetraction','Select$24932')\" onclick=\"return false;\" style=\"cursor:default;\"><span class=\"rTitleNotIE\">A review of convalescent plasma transfusion in COVID-19: Old wine reserved for special occasions</span><br/><span class=\"rSubject\">(HSC) Medicine - Immunology; (HSC) Medicine - Infectious Disease; (HSC) Medicine - Rehabilitation/Therapy; </span><br/><span class=\"rJournal\" style=\"white-space:normal\"><span class=\"rJournal\">Lung India ---</span><span class=\"rPublisher\">Wolters Kluwer - Medknow</span></span><br/><span class=\"rInstitution\" style=\"border-top-style: solid; border-top-width: 2px;\">Department of Pulmonary Medicine, All India Institute of Medical Sciences, Jodhpur, Rajasthan, India</span></a></td><td class=\"smallFont\" style=\"border-color:Silver;\"><div class=\"rReason\" style=\"border-bottom-style: none;\">+Duplication of Article</div></td><td class=\"smallFont\" style=\"border-color:Silver;white-space:nowrap;\"><a class=\"authorLink\" href=\"#\">Kunal Deokar</a><br/><a class=\"authorLink\" href=\"#\">Gopal Chawla</a><br/><a class=\"authorLink\" href=\"#\">Benhur Joel</a><br/><a class=\"authorLink\" href=\"#\">Naveen Dutt</a></td><td class=\"smallFont\" style=\"border-color:Silver;\">09/16/2020<br/>00000000<br/><span class=\"rNature\">10.4103/lungindia.lungindia_350_20</span></td><td class=\"smallFont\" style=\"border-color:Silver;\">12/31/2020<br/>33402655<br/><span class=\"rNature\">10.4103/0970-2113.306029</span></td><td class=\"wrapCell smallFont\" style=\"border-color:Silver;width:12%;\">Review Article<br/><span class=\"rNature\">Retraction</span></td><td align=\"center\" class=\"smallFont\" style=\"border-color:Silver;white-space:nowrap;\">\n",
       " <span>India<br/><span class=\"rPaywalled\">No</span></span>\n",
       " <img alt=\"Notes\" border=\"0\" class=\"Notes\" id=\"imgNotes\" src=\"../Images/Notes.png\" style=\"display:none\" title=\"\"/>\n",
       " <img alt=\"NotesAdmin\" border=\"0\" class=\"NotesAdmin\" id=\"imgNotesAdmin\" src=\"../Images/NotesAdmin.png\" style=\"display:none;margin-top:2px;\" title=\"https://www.lungindia.com/article.asp?issn=0970-2113;year=2021;volume=38;issue=1;spage=105;epage=105;aulast=\n",
       " \n",
       " The review article titled A review of convalescent plasma transfusion in COVID-19: Old wine reserved for special occasions published in Lung India as Ahead of Print, 5 pages, 16th September 2020[1], is being retracted because it is similar to a Letter to Editor titled Convalescent plasma therapy in COVID 19: Every dark cloud has a silver lining published in Journal of Anaesthesiology Clinical Pharmacology, on pages 419-423, Volume 36, Issue 3, 2020[2], by the same group of authors. Basis the publication dates of both the articles, journal's editorial board considers it to be a case of simultaneous publication and thus decided to retract.\n",
       " \n",
       " Plagiarism, fabrication, unethical or redundant publication violates the editorial policy of Lung India, which follows best practice guidelines given by the International Committee of Medical Journal Editors (ICMJE) and Committee on Publication Ethics (COPE) mentioned on the Information for Authors and as codified in the signed statements made by the authors regarding the copyright of their work.\n",
       " \n",
       " The recommendation is based on the findings by an inquiry team constituted for the purpose.\n",
       " \n",
       " Chief Editor:\n",
       " \n",
       " Lung India\n",
       " \n",
       "  \n",
       "    References\t \tTop\n",
       " \n",
       " 1.\t\n",
       " Deokar K, Chawla G, Joel B, Dutt N. A review of convalescent plasma transfusion in COVID-19: Old wine reserved for special occasions. Lung India [Epub ahead of print] https://www.lungindia.com/preprintarticle.asp?id=295234   Back to cited text no. 1\n",
       "     \n",
       " 2.\t\n",
       " Deokar K, Chawla G, Shadrach BJ, Dutt N. Convalescent plasma therapy in COVID 19: Every dark cloud has a silver lining. J Anaesthesiol Clin Pharmacol 2020;36:419-23  Back to cited text no. 2\"/>\n",
       " </td>\n",
       " </tr>\n",
       " </tbody>,\n",
       " <tbody><tr>\n",
       " <th class=\"hidden smallFont\" scope=\"col\">RID</th><th class=\"header headerSortUp smallFont\" scope=\"col\" style=\"border-color:White;border-width:1px;border-style:solid;white-space:nowrap;\">Retraction or Other Notices<br/>Title/Subject(s)/Journal --- Publisher/Affiliation(s)/Retraction Watch Post URL(s)<br/><span class=\"totalItems\">1 Item(s) Found</span></th><th class=\"smallFont\" scope=\"col\" style=\"border-color:White;border-width:1px;border-style:solid;font-weight:bold;\">Reason(s)</th><th class=\"smallFont\" scope=\"col\" style=\"border-color:White;border-width:1px;border-style:solid;font-weight:bold;\">Author(s)</th><th class=\"smallFont\" scope=\"col\" style=\"border-color:White;border-width:1px;border-style:solid;font-weight:bold;\">Original Paper<br/>Date/PubMedID/DOI</th><th class=\"smallFont\" scope=\"col\" style=\"border-color:White;border-width:1px;border-style:solid;font-weight:bold;\">Retraction or Other Notices<br/>Date/PubMedID/DOI</th><th class=\"smallFont\" scope=\"col\" style=\"border-color:White;border-width:1px;border-style:solid;font-weight:bold;\">Article Type(s)<br/>Nature of Notice</th><th class=\"smallFont\" scope=\"col\" style=\"border-color:White;border-width:1px;border-style:solid;\">Countries<br/>Paywalled?<br/>Notes</th>\n",
       " </tr><tr class=\"mainrow\" style=\"background-color:LightYellow;border-color:Black;border-width:1px;border-style:Solid;\">\n",
       " <td class=\"hidden smallFont\" style=\"color:Black;\">23829</td><td class=\"smallFont\" id=\"grdRetraction_Title_0\" style=\"border-color:Silver;\" title=\"23829\"><a href=\"javascript:__doPostBack('grdRetraction','Select$23829')\" onclick=\"return false;\" style=\"cursor:default;\"><span class=\"rTitleNotIE\">5G Technology and induction of coronavirus in skin cells</span><br/><span class=\"rSubject\">(BLS) Toxicology; (HSC) Medicine - Infectious Disease; </span><br/><span class=\"rJournal\" style=\"white-space:normal\"><span class=\"rJournal\">Journal of Biological Regulators and Homeostatic Agents ---</span><span class=\"rPublisher\">Biolife</span></span><br/><span class=\"rInstitution\" style=\"border-top-style: solid; border-top-width: 2px;\">Department of Nuclear, Sub-Nuclear and Radiaton Physics G. Marconi University, Rome, Italy</span><span class=\"rInstitution\">\n",
       " Central Michigan Saginaw, Michigan, USA</span><span class=\"rInstitution\" style=\"border-bottom: 2px solid rgb(0, 102, 33);\">\n",
       " Department of Dermatology and Venereology, I M Sechenov First Moscow State Medical University, Moscow, Russia</span><br/></a><a class=\"urls\" href=\"http://retractionwatch.com/2020/07/26/paper-blaming-covid-19-on-5g-technology-withdrawn/\">http://retractionwatch.com/2020/07/26/paper-blaming-covid-19-on-5g-technology-withdrawn/</a><br/><a class=\"urls\" href=\"http://retractionwatch.com/2020/08/07/journal-that-published-paper-linking-5g-to-covid-19-blames-substantial-manipulation-of-the-peer-review/\">http://retractionwatch.com/2020/08/07/journal-that-published-paper-linking-5g-to-covid-19-blames-substantial-manipulation-of-the-peer-review/</a><br/><a class=\"urls\" href=\"http://retractionwatch.com/retracted-coronavirus-covid-19-papers/\">http://retractionwatch.com/retracted-coronavirus-covid-19-papers/</a></td><td class=\"smallFont\" style=\"border-color:Silver;\"><div class=\"rReason\">+Fake Peer Review</div><div class=\"rReason\">+Investigation by Journal/Publisher</div><div class=\"rReason\" style=\"border-bottom-style: none;\">+Withdrawal</div></td><td class=\"smallFont\" style=\"border-color:Silver;white-space:nowrap;\"><a class=\"authorLink\" href=\"#\">M Fioranelli</a><br/><a class=\"authorLink\" href=\"#\">A Sepehri</a><br/><a class=\"authorLink\" href=\"#\">M G Roccia</a><br/><a class=\"authorLink\" href=\"#\">M Jafferny</a><br/><a class=\"authorLink\" href=\"#\">O Y Olisova</a></td><td class=\"smallFont\" style=\"border-color:Silver;\">07/16/2020<br/>32668870<br/><span class=\"rNature\">10.23812/20-269-E-4</span></td><td class=\"smallFont\" style=\"border-color:Silver;\">07/16/2020<br/>32746604<br/><span class=\"rNature\">10.23812/20-269-E-4R</span></td><td class=\"wrapCell smallFont\" style=\"border-color:Silver;width:12%;\">Research Article<br/><span class=\"rNature\">Retraction</span></td><td align=\"center\" class=\"smallFont\" style=\"border-color:Silver;white-space:nowrap;\">\n",
       " <span>Italy<br/>Russia<br/>United States<br/><span class=\"rPaywalled\">No</span></span>\n",
       " <img alt=\"Notes\" border=\"0\" class=\"Notes\" id=\"imgNotes\" src=\"../Images/Notes.png\" style=\"display:none\" title=\"\"/>\n",
       " <img alt=\"NotesAdmin\" border=\"0\" class=\"NotesAdmin\" id=\"imgNotesAdmin\" src=\"../Images/NotesAdmin.png\" style=\"display:none;margin-top:2px;\" title=\"https://www.biolifesas.org/biolife/wp-content/uploads/2020/07/FIORANELLI.pdf  dead link\n",
       " \n",
       " https://pubmed.ncbi.nlm.nih.gov/32668870/\n",
       " \n",
       " https://www.biolifesas.org/biolife/2020/07/27/retracted-5g-technology-and-induction-of-coronavirus-in-skin-cells/\"/>\n",
       " </td>\n",
       " </tr>\n",
       " </tbody>,\n",
       " None]"
      ]
     },
     "execution_count": 34,
     "metadata": {},
     "output_type": "execute_result"
    }
   ],
   "source": [
    "resList"
   ]
  },
  {
   "cell_type": "code",
   "execution_count": 36,
   "id": "valuable-facing",
   "metadata": {},
   "outputs": [
    {
     "name": "stdout",
     "output_type": "stream",
     "text": [
      "*****\n",
      "['1 Item(s) Found']\n",
      "['A review of convalescent plasma transfusion in COVID-19: Old wine reserved for special occasions']\n",
      "['(HSC) Medicine - Immunology; (HSC) Medicine - Infectious Disease; (HSC) Medicine - Rehabilitation/Therapy; ']\n",
      "[<span class=\"rJournal\">Lung India ---</span>, <span class=\"rPublisher\">Wolters Kluwer - Medknow</span>]\n",
      "['Lung India ---']\n",
      "['Wolters Kluwer - Medknow']\n",
      "['Department of Pulmonary Medicine, All India Institute of Medical Sciences, Jodhpur, Rajasthan, India']\n",
      "['10.4103/lungindia.lungindia_350_20']\n",
      "['10.4103/0970-2113.306029']\n",
      "['Retraction']\n",
      "['India', <br/>, <span class=\"rPaywalled\">No</span>]\n",
      "['No']\n",
      "['+Duplication of Article']\n",
      "*****\n",
      "['1 Item(s) Found']\n",
      "['5G Technology and induction of coronavirus in skin cells']\n",
      "['(BLS) Toxicology; (HSC) Medicine - Infectious Disease; ']\n",
      "[<span class=\"rJournal\">Journal of Biological Regulators and Homeostatic Agents ---</span>, <span class=\"rPublisher\">Biolife</span>]\n",
      "['Journal of Biological Regulators and Homeostatic Agents ---']\n",
      "['Biolife']\n",
      "['Department of Nuclear, Sub-Nuclear and Radiaton Physics G. Marconi University, Rome, Italy']\n",
      "['\\nCentral Michigan Saginaw, Michigan, USA']\n",
      "['\\nDepartment of Dermatology and Venereology, I M Sechenov First Moscow State Medical University, Moscow, Russia']\n",
      "['10.23812/20-269-E-4']\n",
      "['10.23812/20-269-E-4R']\n",
      "['Retraction']\n",
      "['Italy', <br/>, 'Russia', <br/>, 'United States', <br/>, <span class=\"rPaywalled\">No</span>]\n",
      "['No']\n",
      "['+Fake Peer Review']\n",
      "['+Investigation by Journal/Publisher']\n",
      "['+Withdrawal']\n",
      "*****\n",
      "None is safe!\n"
     ]
    }
   ],
   "source": [
    "for r in resList:\n",
    "    print(\"*****\")\n",
    "    if r is None:\n",
    "        print(r, \"is safe!\")\n",
    "    else:\n",
    "        for i in getResultsTableData(r):\n",
    "            print(i.contents)"
   ]
  },
  {
   "cell_type": "code",
   "execution_count": null,
   "id": "spectacular-genealogy",
   "metadata": {},
   "outputs": [],
   "source": []
  }
 ],
 "metadata": {
  "kernelspec": {
   "display_name": "Python 3",
   "language": "python",
   "name": "python3"
  },
  "language_info": {
   "codemirror_mode": {
    "name": "ipython",
    "version": 3
   },
   "file_extension": ".py",
   "mimetype": "text/x-python",
   "name": "python",
   "nbconvert_exporter": "python",
   "pygments_lexer": "ipython3",
   "version": "3.9.1"
  }
 },
 "nbformat": 4,
 "nbformat_minor": 5
}
